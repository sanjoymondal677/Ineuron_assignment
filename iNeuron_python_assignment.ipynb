{
 "cells": [
  {
   "cell_type": "markdown",
   "id": "641a94f7",
   "metadata": {},
   "source": [
    " #### Q1.Why do we call Python as a general purpose and high-level programming language?"
   ]
  },
  {
   "cell_type": "markdown",
   "id": "b9440f5f",
   "metadata": {},
   "source": [
    "<li>\n",
    "It is open source, which means it is free to use, even for commercial applications. Python is considered a scripting language, like Ruby or Perl and is often used for creating Web applications and dynamic Web content.</li>\n",
    "<li>Python is easy to use, it is simple with an easily readable syntax.</li>\n",
    "<li>Python is incredibly easy to learn and use. In fact, it’s one of the most accessible programming languages available.</li>\n",
    "<li>Incredible Artificial Intelligence and Machine Learning support, Python is the number one choice when it comes to rapidly develop and demandable technologies like Artificial Intelligence and Machine Learning.\n",
    "    </li>\n"
   ]
  },
  {
   "cell_type": "markdown",
   "id": "f95c3222",
   "metadata": {},
   "source": [
    "#### Q2.Why is Python called a dynamically typed language?"
   ]
  },
  {
   "cell_type": "markdown",
   "id": "7563a231",
   "metadata": {},
   "source": [
    "Python don't have any problem even if we don't declare the type of variable. It states the kind of variable in the runtime of the program. Python also take cares of the memory management which is crucial in programming. So, Python is a dynamically typed language."
   ]
  },
  {
   "cell_type": "markdown",
   "id": "343dc5f3",
   "metadata": {},
   "source": [
    "Ex:"
   ]
  },
  {
   "cell_type": "code",
   "execution_count": 1,
   "id": "3f6d8e88",
   "metadata": {},
   "outputs": [
    {
     "name": "stdout",
     "output_type": "stream",
     "text": [
      "<class 'int'>\n"
     ]
    }
   ],
   "source": [
    "a = 7\n",
    "print(type(a))"
   ]
  },
  {
   "cell_type": "markdown",
   "id": "51c98c06",
   "metadata": {},
   "source": [
    "#### Q3.List some pros and cons of Python programming language?"
   ]
  },
  {
   "cell_type": "markdown",
   "id": "f4ff8109",
   "metadata": {},
   "source": [
    "##### pros:\n",
    "<li>Beginner-Friendly</li>\n",
    "<li>Large Community</li>\n",
    "<li>Flexible and Extensible</li>\n",
    "<li>Extensive Libraries</li>\n",
    "<li>Embeddable and more...</li>"
   ]
  },
  {
   "cell_type": "markdown",
   "id": "603536e1",
   "metadata": {},
   "source": [
    "##### cons:\n",
    "<li>Issues with Design-> Python developers sometimes have to deal with complicated designs.</li>\n",
    "<li>Slower than Compiled Languages</li>\n",
    "<li>Work Environment -> Before working with Python, you must set up a work environment. Many trouble can arise while setting up the environment, affecting beginners’ programming experience. </li>\n",
    "<li>Python’s Memory Consumption and Garbage Collection</li>"
   ]
  },
  {
   "cell_type": "markdown",
   "id": "8f155f7d",
   "metadata": {},
   "source": [
    "#### Q4.In what all domains can we use Python?"
   ]
  },
  {
   "cell_type": "markdown",
   "id": "c6b1e7de",
   "metadata": {},
   "source": [
    "<b>a. </b>Data Science.<hr>\n",
    "<b>b. </b>Automation.<hr>\n",
    "<b>c. </b>Application Development.<hr>\n",
    "<b>d. </b>AI & Machine Learning.<hr>\n",
    "<b>e. </b>Audio/Video Applications.<hr>\n",
    "<b>f. </b>Desktop GUI.<hr>"
   ]
  },
  {
   "cell_type": "markdown",
   "id": "a6fad51e",
   "metadata": {},
   "source": [
    "#### Q5.What are variable and how can we declare them?"
   ]
  },
  {
   "cell_type": "markdown",
   "id": "cc9e59f3",
   "metadata": {},
   "source": [
    "A variable declaration always contains two components: the type of the variable and its name. Also, the location of the variable declaration, that is, where the declaration appears in relation to other code elements, determines the scope of the variable.\n",
    "\n",
    "like, in c programming language -> int count = 0;"
   ]
  },
  {
   "cell_type": "markdown",
   "id": "3cae5834",
   "metadata": {},
   "source": [
    "<b>In Python</b>"
   ]
  },
  {
   "cell_type": "markdown",
   "id": "77cff9a3",
   "metadata": {},
   "source": [
    "<li>we need not declare a variable with some specific data type.</li>\n",
    "\n",
    "<li>Python has no command for declaring a variable. A variable is created when some value is assigned to it. The value assigned to a variable determines the data type of that variable.\n",
    "\n",
    "Thus, declaring a variable in Python is very simple.\n",
    "\n",
    "<li>Just name the variable\n",
    "\n",
    "<li>Assign the required value to it\n",
    "\n",
    "<li>The data type of the variable will be automatically determined from the value assigned, we need not define it explicitly.</li>"
   ]
  },
  {
   "cell_type": "markdown",
   "id": "32692af3",
   "metadata": {},
   "source": [
    "integer variable"
   ]
  },
  {
   "cell_type": "code",
   "execution_count": 2,
   "id": "46a7b3fa",
   "metadata": {},
   "outputs": [
    {
     "name": "stdout",
     "output_type": "stream",
     "text": [
      "<class 'int'>\n"
     ]
    }
   ],
   "source": [
    "x = 10\n",
    "print(type(x))"
   ]
  },
  {
   "cell_type": "markdown",
   "id": "5070c18a",
   "metadata": {},
   "source": [
    "string variable"
   ]
  },
  {
   "cell_type": "code",
   "execution_count": 3,
   "id": "dd9685a7",
   "metadata": {},
   "outputs": [
    {
     "name": "stdout",
     "output_type": "stream",
     "text": [
      "<class 'str'>\n"
     ]
    }
   ],
   "source": [
    "y = \"iNeuron\"\n",
    "print(type(y))"
   ]
  },
  {
   "cell_type": "markdown",
   "id": "715803b9",
   "metadata": {},
   "source": [
    "float variable"
   ]
  },
  {
   "cell_type": "code",
   "execution_count": 4,
   "id": "dfe154b1",
   "metadata": {},
   "outputs": [
    {
     "name": "stdout",
     "output_type": "stream",
     "text": [
      "<class 'float'>\n"
     ]
    }
   ],
   "source": [
    "z = 2.0\n",
    "print(type(z))"
   ]
  },
  {
   "cell_type": "markdown",
   "id": "6eedc6a7",
   "metadata": {},
   "source": [
    "#### Q6.How can we take an input from the user in Python?"
   ]
  },
  {
   "cell_type": "code",
   "execution_count": 5,
   "id": "1d51a78e",
   "metadata": {},
   "outputs": [
    {
     "name": "stdout",
     "output_type": "stream",
     "text": [
      "Hi\n"
     ]
    }
   ],
   "source": [
    "var = input()"
   ]
  },
  {
   "cell_type": "markdown",
   "id": "486f6bff",
   "metadata": {},
   "source": [
    "#### Q7. What is the default datatype of the value that has been taken as an input using input() function?"
   ]
  },
  {
   "cell_type": "markdown",
   "id": "92f0bb1f",
   "metadata": {},
   "source": [
    "Default datatype of the value that has been taken as an input using input() function is <b>string</b>."
   ]
  },
  {
   "cell_type": "markdown",
   "id": "e06148f7",
   "metadata": {},
   "source": [
    "#### Q8. What is type casting?"
   ]
  },
  {
   "cell_type": "markdown",
   "id": "18e742e9",
   "metadata": {},
   "source": [
    "Type Casting is the method to convert the variable data type into a certain data type in order to the operation required to be performed by users.\n",
    "\n",
    "There can be two types of Type Casting in Python –\n",
    "\n",
    "<li>Implicit Type Casting</li>"
   ]
  },
  {
   "cell_type": "code",
   "execution_count": 6,
   "id": "9c286ff2",
   "metadata": {},
   "outputs": [
    {
     "name": "stdout",
     "output_type": "stream",
     "text": [
      "<class 'int'>\n"
     ]
    }
   ],
   "source": [
    "a = 7\n",
    "print(type(a))"
   ]
  },
  {
   "cell_type": "markdown",
   "id": "4c3cda7d",
   "metadata": {},
   "source": [
    "<li>Explicit Type Casting</li>"
   ]
  },
  {
   "cell_type": "code",
   "execution_count": 7,
   "id": "c9a7cddf",
   "metadata": {},
   "outputs": [
    {
     "name": "stdout",
     "output_type": "stream",
     "text": [
      "<class 'float'>\n"
     ]
    }
   ],
   "source": [
    "## convert int into float\n",
    "a = 5\n",
    "n = float(a)\n",
    "print(type(n))"
   ]
  },
  {
   "cell_type": "markdown",
   "id": "f00a2bdb",
   "metadata": {},
   "source": [
    "#### Q9. Can we take more than one input from the user using single input() function? If yes, how? If no, why?"
   ]
  },
  {
   "cell_type": "markdown",
   "id": "1079d778",
   "metadata": {},
   "source": [
    "With the help of the split () function, we can easily collect multiple inputs in Python from the user and assign all the inputs to the respective variables.\n",
    "\n",
    "<b>Ex.</b>"
   ]
  },
  {
   "cell_type": "code",
   "execution_count": 8,
   "id": "3693fb7e",
   "metadata": {},
   "outputs": [
    {
     "name": "stdout",
     "output_type": "stream",
     "text": [
      "Enter your name: sanjoy k mondal\n",
      "Enter your first name:  sanjoy\n",
      "Enter your middle name:  k\n",
      "Enter your last name mondal\n",
      "\n"
     ]
    }
   ],
   "source": [
    "var1, var2, var3 = input (\"Enter your name: \").split ()\n",
    "\n",
    "print(\"Enter your first name: \", var1)\n",
    "\n",
    "print(\"Enter your middle name: \", var2)\n",
    "\n",
    "print(\"Enter your last name\", var3)\n",
    "\n",
    "print()"
   ]
  },
  {
   "cell_type": "markdown",
   "id": "96353dee",
   "metadata": {},
   "source": [
    "#### Q10. What are keywords?"
   ]
  },
  {
   "cell_type": "markdown",
   "id": "2a1f6c79",
   "metadata": {},
   "source": [
    "Keywords in Python are reserved words that can not be used as a variable name, function name, or any other identifier."
   ]
  },
  {
   "cell_type": "markdown",
   "id": "65e531a3",
   "metadata": {},
   "source": [
    "some of the ex. is -> and,as,assert,break\n",
    ",class,continue,def,del"
   ]
  },
  {
   "cell_type": "markdown",
   "id": "46232eaf",
   "metadata": {},
   "source": [
    "#### Q11. Can we use keywords as a variable? Support your answer with reason."
   ]
  },
  {
   "cell_type": "markdown",
   "id": "4a7a7223",
   "metadata": {},
   "source": [
    "We cannot use a keyword as a variable name, function name, or any other identifier. They are used to define the syntax and structure of the Python language.\n",
    "\n",
    "All the keywords except True, False and None are in lowercase and they must be written as they are. "
   ]
  },
  {
   "cell_type": "markdown",
   "id": "33a27c53",
   "metadata": {},
   "source": [
    "#### Q12.  What is indentation? What's the use of indentaion in Python?"
   ]
  },
  {
   "cell_type": "markdown",
   "id": "75ba5d7e",
   "metadata": {},
   "source": [
    "Python indentation refers to adding white space before a statement to a particular block of code. In another word, all the statements with the same space to the right, belong to the same code block."
   ]
  },
  {
   "cell_type": "markdown",
   "id": "29025f0a",
   "metadata": {},
   "source": [
    "Indentation is a very important concept of Python because without properly indenting the Python code, will end up seeing IndentationError and the code will not get compiled."
   ]
  },
  {
   "cell_type": "markdown",
   "id": "f6a6ee52",
   "metadata": {},
   "source": [
    "#### Q13. How can we throw some output in Python?"
   ]
  },
  {
   "cell_type": "markdown",
   "id": "17839ca8",
   "metadata": {},
   "source": [
    "In Python, we can simply use the print() function to print output. For example,\n",
    "\n",
    "print('output')"
   ]
  },
  {
   "cell_type": "markdown",
   "id": "23a4c38c",
   "metadata": {},
   "source": [
    "#### Q14. What are operators in Python?"
   ]
  },
  {
   "cell_type": "markdown",
   "id": "62e3294d",
   "metadata": {},
   "source": [
    "operators are special symbols that designate that some sort of computation should be performed\n",
    "EX->+,-,/,//,%,*,**"
   ]
  },
  {
   "cell_type": "markdown",
   "id": "250ea540",
   "metadata": {},
   "source": [
    "#### Q15. What is difference between / and // operators?"
   ]
  },
  {
   "cell_type": "markdown",
   "id": "6ddb03cc",
   "metadata": {},
   "source": [
    "/ is regular division(returns float) and // is floor division(returns int)"
   ]
  },
  {
   "cell_type": "code",
   "execution_count": 9,
   "id": "00d7688a",
   "metadata": {},
   "outputs": [
    {
     "name": "stdout",
     "output_type": "stream",
     "text": [
      "4.5\n"
     ]
    }
   ],
   "source": [
    "x = 9/2\n",
    "print(x)"
   ]
  },
  {
   "cell_type": "code",
   "execution_count": 10,
   "id": "b2e2c0e3",
   "metadata": {},
   "outputs": [
    {
     "name": "stdout",
     "output_type": "stream",
     "text": [
      "4\n"
     ]
    }
   ],
   "source": [
    "y = 9//2\n",
    "print(y)"
   ]
  },
  {
   "cell_type": "markdown",
   "id": "d8533beb",
   "metadata": {},
   "source": [
    "#### Q16. Write a code that gives following as an output.\n",
    "```\n",
    "iNeuroniNeuroniNeuroniNeuron\n",
    "```"
   ]
  },
  {
   "cell_type": "code",
   "execution_count": 11,
   "id": "6bbce114",
   "metadata": {},
   "outputs": [
    {
     "name": "stdout",
     "output_type": "stream",
     "text": [
      "iNeuroniNeuroniNeuroniNeuron\n"
     ]
    }
   ],
   "source": [
    "print('iNeuroniNeuroniNeuroniNeuron')"
   ]
  },
  {
   "cell_type": "markdown",
   "id": "fbd4b112",
   "metadata": {},
   "source": [
    "#### Q17. Write a code to take a number as an input from the user and check if the number is odd or even."
   ]
  },
  {
   "cell_type": "code",
   "execution_count": 12,
   "id": "14332507",
   "metadata": {},
   "outputs": [
    {
     "name": "stdout",
     "output_type": "stream",
     "text": [
      "Enter the number: 6\n",
      "6 is Even number\n"
     ]
    }
   ],
   "source": [
    "a = int(input(\"Enter the number: \"))\n",
    "if a%2==0:\n",
    "    print(\"{0} is Even number\".format(a))\n",
    "else:\n",
    "    print(\"{0} is Odd number\".format(a))"
   ]
  },
  {
   "cell_type": "markdown",
   "id": "eea49a25",
   "metadata": {},
   "source": [
    "#### Q18. What are boolean operator?"
   ]
  },
  {
   "cell_type": "markdown",
   "id": "64700cde",
   "metadata": {},
   "source": [
    "Boolean operators are those that result in the Boolean values of <b>True</b> and <b>False</b>. These include and, or and not. While and & or require 2 operands, not is a unary operator. Boolean operators are most commonly used in arithmetic computations and logical comparisons."
   ]
  },
  {
   "cell_type": "markdown",
   "id": "5b50e540",
   "metadata": {},
   "source": [
    "#### Q19. What will the output of the following?\n",
    "```\n",
    "1 or 0\n",
    "\n",
    "0 and 0\n",
    "\n",
    "True and False and True\n",
    "\n",
    "1 or 0 or 0\n",
    "```"
   ]
  },
  {
   "cell_type": "markdown",
   "id": "afcb8291",
   "metadata": {},
   "source": [
    "1 or 0 ->True(1)\n",
    "0 and 0 ->False(0)\n",
    "True and False and True -> False\n",
    "1 or 0 or 0 ->True(1)"
   ]
  },
  {
   "cell_type": "markdown",
   "id": "1fc51d59",
   "metadata": {},
   "source": [
    "#### Q20. What are conditional statements in Python?"
   ]
  },
  {
   "cell_type": "markdown",
   "id": "6ceaab8a",
   "metadata": {},
   "source": [
    "A conditional statement as the name suggests itself, is used to handle conditions of program. These statements guide the program while making decisions based on the conditions encountered by the program."
   ]
  },
  {
   "cell_type": "markdown",
   "id": "e5c20583",
   "metadata": {},
   "source": [
    "#### Q21. What is use of 'if', 'elif' and 'else' keywords?"
   ]
  },
  {
   "cell_type": "markdown",
   "id": "d2c2c8e8",
   "metadata": {},
   "source": [
    "The <b>if</b> statement is a conditional statement in python, that is used to determine whether a block of code will be executed or not. Meaning if the program finds the condition defined in the if statement to be true, it will go ahead and execute the code block inside the if statement.\n",
    "\n",
    "The <b>elif</b> statement is used to check for multiple conditions and execute the code block within if any of the conditions evaluate to be true.\n",
    "\n",
    "he if statement executes the code block when the condition is true. Similarly, the <b>else</b> statement works in conjuncture with the if statement to execute a code block when the defined if condition is false.\n",
    "\n"
   ]
  },
  {
   "cell_type": "code",
   "execution_count": 13,
   "id": "42b4952f",
   "metadata": {},
   "outputs": [
    {
     "name": "stdout",
     "output_type": "stream",
     "text": [
      "less than 6 \n"
     ]
    }
   ],
   "source": [
    "var = 3\n",
    "if var > 6:\n",
    "    print(\"greater than 6\")\n",
    "elif var < 6:\n",
    "    print(\"less than 6 \")\n",
    "else:\n",
    "    print(\"Nither greater or less than 6\")"
   ]
  },
  {
   "cell_type": "markdown",
   "id": "4ff2e393",
   "metadata": {},
   "source": [
    "#### Q22. Write a code to take the age of person as an input and if age >= 18 display \"I can vote\". If age is < 18 display \"I can't vote\"."
   ]
  },
  {
   "cell_type": "code",
   "execution_count": 14,
   "id": "c1bd80a2",
   "metadata": {},
   "outputs": [
    {
     "name": "stdout",
     "output_type": "stream",
     "text": [
      "Enter your age: 18\n",
      "I can Vote!\n"
     ]
    }
   ],
   "source": [
    "age = int(input(\"Enter your age: \"))\n",
    "if age >=18:\n",
    "    print (\"I can Vote!\")\n",
    "else:\n",
    "    print(\"I can't Vote!\")"
   ]
  },
  {
   "cell_type": "markdown",
   "id": "1cf8822b",
   "metadata": {},
   "source": [
    "#### Q23. Write a code that displays the sum of all the even numbers from the given list.\n",
    "```\n",
    "numbers = [12, 75, 150, 180, 145, 525, 50]\n",
    "```"
   ]
  },
  {
   "cell_type": "code",
   "execution_count": 15,
   "id": "cbab41bc",
   "metadata": {},
   "outputs": [
    {
     "name": "stdout",
     "output_type": "stream",
     "text": [
      "392\n"
     ]
    }
   ],
   "source": [
    "numbers = [12, 75, 150, 180, 145, 525, 50]\n",
    "total = 0\n",
    "for num in numbers:\n",
    "    if num % 2 == 0:\n",
    "        total = total + num\n",
    "print(total)"
   ]
  },
  {
   "cell_type": "markdown",
   "id": "67e4577e",
   "metadata": {},
   "source": [
    "#### Q24. Write a code to take 3 numbers as an input from the user and display the greatest no as output."
   ]
  },
  {
   "cell_type": "code",
   "execution_count": 16,
   "id": "ef3f5f62",
   "metadata": {},
   "outputs": [
    {
     "name": "stdout",
     "output_type": "stream",
     "text": [
      "2\n",
      "4\n",
      "7\n",
      "greatest no. is:  4\n"
     ]
    }
   ],
   "source": [
    "a = int(input())\n",
    "b = int(input())\n",
    "c = int(input())\n",
    "if a>=b:\n",
    "    print(\"greatest no. is: \",a)\n",
    "elif b>=a:\n",
    "    print(\"greatest no. is: \",b)\n",
    "else:\n",
    "    print(\"greatest no. is: \",c)"
   ]
  },
  {
   "cell_type": "markdown",
   "id": "1c0302db",
   "metadata": {},
   "source": [
    "#### Q25. Write a program to display only those numbers from a list that satisfy the following conditions\n",
    "\n",
    "- The number must be divisible by five\n",
    "\n",
    "- If the number is greater than 150, then skip it and move to the next number\n",
    "\n",
    "- If the number is greater than 500, then stop the loop\n",
    "```\n",
    "numbers = [12, 75, 150, 180, 145, 525, 50]\n",
    "```"
   ]
  },
  {
   "cell_type": "code",
   "execution_count": 17,
   "id": "5d553c20",
   "metadata": {},
   "outputs": [
    {
     "name": "stdout",
     "output_type": "stream",
     "text": [
      "75\n",
      "150\n",
      "180\n",
      "145\n",
      "525\n",
      "50\n",
      "The end\n"
     ]
    }
   ],
   "source": [
    "for num in numbers:\n",
    "    if num % 5 == 0:\n",
    "        print(num)\n",
    "    elif num > 150:\n",
    "        continue\n",
    "    elif num > 500:\n",
    "        break\n",
    "\n",
    "print(\"The end\")"
   ]
  },
  {
   "cell_type": "code",
   "execution_count": null,
   "id": "5247e3b1",
   "metadata": {},
   "outputs": [],
   "source": []
  }
 ],
 "metadata": {
  "kernelspec": {
   "display_name": "Python 3 (ipykernel)",
   "language": "python",
   "name": "python3"
  },
  "language_info": {
   "codemirror_mode": {
    "name": "ipython",
    "version": 3
   },
   "file_extension": ".py",
   "mimetype": "text/x-python",
   "name": "python",
   "nbconvert_exporter": "python",
   "pygments_lexer": "ipython3",
   "version": "3.9.12"
  }
 },
 "nbformat": 4,
 "nbformat_minor": 5
}
